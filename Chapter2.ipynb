{
  "nbformat": 4,
  "nbformat_minor": 0,
  "metadata": {
    "colab": {
      "provenance": [],
      "authorship_tag": "ABX9TyPKzI+YLLxcoLKeaoNkUZ4l",
      "include_colab_link": true
    },
    "kernelspec": {
      "name": "python3",
      "display_name": "Python 3"
    },
    "language_info": {
      "name": "python"
    }
  },
  "cells": [
    {
      "cell_type": "markdown",
      "metadata": {
        "id": "view-in-github",
        "colab_type": "text"
      },
      "source": [
        "<a href=\"https://colab.research.google.com/github/lakshayae162/EDA/blob/main/Chapter2.ipynb\" target=\"_parent\"><img src=\"https://colab.research.google.com/assets/colab-badge.svg\" alt=\"Open In Colab\"/></a>"
      ]
    },
    {
      "cell_type": "markdown",
      "source": [
        "# **MODULE 2 - EXERCISES**"
      ],
      "metadata": {
        "id": "pFS3PPhba2sm"
      }
    },
    {
      "cell_type": "markdown",
      "source": [
        "## **Merging database-style dataframes**"
      ],
      "metadata": {
        "id": "6yUF8A88a-0s"
      }
    },
    {
      "cell_type": "markdown",
      "source": [
        "Creating two data frames from the dataset.\n",
        "Splitting the dataset into 2 halves.\n",
        "\n",
        "\n",
        "*   First half of the dataset - Dataframe 1\n",
        "*   Second half of the dataset - Dataframe 2\n",
        "\n",
        "\n"
      ],
      "metadata": {
        "id": "3WZwLPBbbIiH"
      }
    },
    {
      "cell_type": "code",
      "execution_count": 2,
      "metadata": {
        "id": "uBT4o9zFa0RP"
      },
      "outputs": [],
      "source": [
        "#Importing packages and libraries\n",
        "import pandas as pd\n",
        "import numpy as np\n"
      ]
    },
    {
      "cell_type": "code",
      "source": [
        "#Loading the dataset\n",
        "url = 'https://raw.githubusercontent.com/salemprakash/EDA/main/Data/VerbAgg.csv'\n",
        "data = pd.read_csv(url)"
      ],
      "metadata": {
        "id": "Wzrc35ZDbszR"
      },
      "execution_count": 3,
      "outputs": []
    },
    {
      "cell_type": "code",
      "source": [
        "# Splitting the dataset into two dataframes\n",
        "df1 = data.iloc[:len(data)//2]  # First half\n",
        "df2 = data.iloc[len(data)//2:]  # Second half"
      ],
      "metadata": {
        "id": "ZQMeBJRVb8ay"
      },
      "execution_count": 4,
      "outputs": []
    },
    {
      "cell_type": "code",
      "source": [
        "print(df1.shape)\n",
        "df1.head(10)"
      ],
      "metadata": {
        "colab": {
          "base_uri": "https://localhost:8080/",
          "height": 381
        },
        "id": "I4X3GlPtcFeH",
        "outputId": "d72a1811-e5c0-4bb6-9a55-107c5052144d"
      },
      "execution_count": 5,
      "outputs": [
        {
          "output_type": "stream",
          "name": "stdout",
          "text": [
            "(3792, 10)\n"
          ]
        },
        {
          "output_type": "execute_result",
          "data": {
            "text/plain": [
              "   rownames  Anger Gender         item     resp  id  btype   situ  mode r2\n",
              "0         1     20      M  S1WantCurse       no   1  curse  other  want  N\n",
              "1         2     11      M  S1WantCurse       no   2  curse  other  want  N\n",
              "2         3     17      F  S1WantCurse  perhaps   3  curse  other  want  Y\n",
              "3         4     21      F  S1WantCurse  perhaps   4  curse  other  want  Y\n",
              "4         5     17      F  S1WantCurse  perhaps   5  curse  other  want  Y\n",
              "5         6     21      F  S1WantCurse      yes   6  curse  other  want  Y\n",
              "6         7     39      F  S1WantCurse      yes   7  curse  other  want  Y\n",
              "7         8     21      F  S1WantCurse       no   8  curse  other  want  N\n",
              "8         9     24      F  S1WantCurse       no   9  curse  other  want  N\n",
              "9        10     16      F  S1WantCurse      yes  10  curse  other  want  Y"
            ],
            "text/html": [
              "\n",
              "  <div id=\"df-6530d8df-2d8b-4f21-95a6-9209b7440eb6\" class=\"colab-df-container\">\n",
              "    <div>\n",
              "<style scoped>\n",
              "    .dataframe tbody tr th:only-of-type {\n",
              "        vertical-align: middle;\n",
              "    }\n",
              "\n",
              "    .dataframe tbody tr th {\n",
              "        vertical-align: top;\n",
              "    }\n",
              "\n",
              "    .dataframe thead th {\n",
              "        text-align: right;\n",
              "    }\n",
              "</style>\n",
              "<table border=\"1\" class=\"dataframe\">\n",
              "  <thead>\n",
              "    <tr style=\"text-align: right;\">\n",
              "      <th></th>\n",
              "      <th>rownames</th>\n",
              "      <th>Anger</th>\n",
              "      <th>Gender</th>\n",
              "      <th>item</th>\n",
              "      <th>resp</th>\n",
              "      <th>id</th>\n",
              "      <th>btype</th>\n",
              "      <th>situ</th>\n",
              "      <th>mode</th>\n",
              "      <th>r2</th>\n",
              "    </tr>\n",
              "  </thead>\n",
              "  <tbody>\n",
              "    <tr>\n",
              "      <th>0</th>\n",
              "      <td>1</td>\n",
              "      <td>20</td>\n",
              "      <td>M</td>\n",
              "      <td>S1WantCurse</td>\n",
              "      <td>no</td>\n",
              "      <td>1</td>\n",
              "      <td>curse</td>\n",
              "      <td>other</td>\n",
              "      <td>want</td>\n",
              "      <td>N</td>\n",
              "    </tr>\n",
              "    <tr>\n",
              "      <th>1</th>\n",
              "      <td>2</td>\n",
              "      <td>11</td>\n",
              "      <td>M</td>\n",
              "      <td>S1WantCurse</td>\n",
              "      <td>no</td>\n",
              "      <td>2</td>\n",
              "      <td>curse</td>\n",
              "      <td>other</td>\n",
              "      <td>want</td>\n",
              "      <td>N</td>\n",
              "    </tr>\n",
              "    <tr>\n",
              "      <th>2</th>\n",
              "      <td>3</td>\n",
              "      <td>17</td>\n",
              "      <td>F</td>\n",
              "      <td>S1WantCurse</td>\n",
              "      <td>perhaps</td>\n",
              "      <td>3</td>\n",
              "      <td>curse</td>\n",
              "      <td>other</td>\n",
              "      <td>want</td>\n",
              "      <td>Y</td>\n",
              "    </tr>\n",
              "    <tr>\n",
              "      <th>3</th>\n",
              "      <td>4</td>\n",
              "      <td>21</td>\n",
              "      <td>F</td>\n",
              "      <td>S1WantCurse</td>\n",
              "      <td>perhaps</td>\n",
              "      <td>4</td>\n",
              "      <td>curse</td>\n",
              "      <td>other</td>\n",
              "      <td>want</td>\n",
              "      <td>Y</td>\n",
              "    </tr>\n",
              "    <tr>\n",
              "      <th>4</th>\n",
              "      <td>5</td>\n",
              "      <td>17</td>\n",
              "      <td>F</td>\n",
              "      <td>S1WantCurse</td>\n",
              "      <td>perhaps</td>\n",
              "      <td>5</td>\n",
              "      <td>curse</td>\n",
              "      <td>other</td>\n",
              "      <td>want</td>\n",
              "      <td>Y</td>\n",
              "    </tr>\n",
              "    <tr>\n",
              "      <th>5</th>\n",
              "      <td>6</td>\n",
              "      <td>21</td>\n",
              "      <td>F</td>\n",
              "      <td>S1WantCurse</td>\n",
              "      <td>yes</td>\n",
              "      <td>6</td>\n",
              "      <td>curse</td>\n",
              "      <td>other</td>\n",
              "      <td>want</td>\n",
              "      <td>Y</td>\n",
              "    </tr>\n",
              "    <tr>\n",
              "      <th>6</th>\n",
              "      <td>7</td>\n",
              "      <td>39</td>\n",
              "      <td>F</td>\n",
              "      <td>S1WantCurse</td>\n",
              "      <td>yes</td>\n",
              "      <td>7</td>\n",
              "      <td>curse</td>\n",
              "      <td>other</td>\n",
              "      <td>want</td>\n",
              "      <td>Y</td>\n",
              "    </tr>\n",
              "    <tr>\n",
              "      <th>7</th>\n",
              "      <td>8</td>\n",
              "      <td>21</td>\n",
              "      <td>F</td>\n",
              "      <td>S1WantCurse</td>\n",
              "      <td>no</td>\n",
              "      <td>8</td>\n",
              "      <td>curse</td>\n",
              "      <td>other</td>\n",
              "      <td>want</td>\n",
              "      <td>N</td>\n",
              "    </tr>\n",
              "    <tr>\n",
              "      <th>8</th>\n",
              "      <td>9</td>\n",
              "      <td>24</td>\n",
              "      <td>F</td>\n",
              "      <td>S1WantCurse</td>\n",
              "      <td>no</td>\n",
              "      <td>9</td>\n",
              "      <td>curse</td>\n",
              "      <td>other</td>\n",
              "      <td>want</td>\n",
              "      <td>N</td>\n",
              "    </tr>\n",
              "    <tr>\n",
              "      <th>9</th>\n",
              "      <td>10</td>\n",
              "      <td>16</td>\n",
              "      <td>F</td>\n",
              "      <td>S1WantCurse</td>\n",
              "      <td>yes</td>\n",
              "      <td>10</td>\n",
              "      <td>curse</td>\n",
              "      <td>other</td>\n",
              "      <td>want</td>\n",
              "      <td>Y</td>\n",
              "    </tr>\n",
              "  </tbody>\n",
              "</table>\n",
              "</div>\n",
              "    <div class=\"colab-df-buttons\">\n",
              "\n",
              "  <div class=\"colab-df-container\">\n",
              "    <button class=\"colab-df-convert\" onclick=\"convertToInteractive('df-6530d8df-2d8b-4f21-95a6-9209b7440eb6')\"\n",
              "            title=\"Convert this dataframe to an interactive table.\"\n",
              "            style=\"display:none;\">\n",
              "\n",
              "  <svg xmlns=\"http://www.w3.org/2000/svg\" height=\"24px\" viewBox=\"0 -960 960 960\">\n",
              "    <path d=\"M120-120v-720h720v720H120Zm60-500h600v-160H180v160Zm220 220h160v-160H400v160Zm0 220h160v-160H400v160ZM180-400h160v-160H180v160Zm440 0h160v-160H620v160ZM180-180h160v-160H180v160Zm440 0h160v-160H620v160Z\"/>\n",
              "  </svg>\n",
              "    </button>\n",
              "\n",
              "  <style>\n",
              "    .colab-df-container {\n",
              "      display:flex;\n",
              "      gap: 12px;\n",
              "    }\n",
              "\n",
              "    .colab-df-convert {\n",
              "      background-color: #E8F0FE;\n",
              "      border: none;\n",
              "      border-radius: 50%;\n",
              "      cursor: pointer;\n",
              "      display: none;\n",
              "      fill: #1967D2;\n",
              "      height: 32px;\n",
              "      padding: 0 0 0 0;\n",
              "      width: 32px;\n",
              "    }\n",
              "\n",
              "    .colab-df-convert:hover {\n",
              "      background-color: #E2EBFA;\n",
              "      box-shadow: 0px 1px 2px rgba(60, 64, 67, 0.3), 0px 1px 3px 1px rgba(60, 64, 67, 0.15);\n",
              "      fill: #174EA6;\n",
              "    }\n",
              "\n",
              "    .colab-df-buttons div {\n",
              "      margin-bottom: 4px;\n",
              "    }\n",
              "\n",
              "    [theme=dark] .colab-df-convert {\n",
              "      background-color: #3B4455;\n",
              "      fill: #D2E3FC;\n",
              "    }\n",
              "\n",
              "    [theme=dark] .colab-df-convert:hover {\n",
              "      background-color: #434B5C;\n",
              "      box-shadow: 0px 1px 3px 1px rgba(0, 0, 0, 0.15);\n",
              "      filter: drop-shadow(0px 1px 2px rgba(0, 0, 0, 0.3));\n",
              "      fill: #FFFFFF;\n",
              "    }\n",
              "  </style>\n",
              "\n",
              "    <script>\n",
              "      const buttonEl =\n",
              "        document.querySelector('#df-6530d8df-2d8b-4f21-95a6-9209b7440eb6 button.colab-df-convert');\n",
              "      buttonEl.style.display =\n",
              "        google.colab.kernel.accessAllowed ? 'block' : 'none';\n",
              "\n",
              "      async function convertToInteractive(key) {\n",
              "        const element = document.querySelector('#df-6530d8df-2d8b-4f21-95a6-9209b7440eb6');\n",
              "        const dataTable =\n",
              "          await google.colab.kernel.invokeFunction('convertToInteractive',\n",
              "                                                    [key], {});\n",
              "        if (!dataTable) return;\n",
              "\n",
              "        const docLinkHtml = 'Like what you see? Visit the ' +\n",
              "          '<a target=\"_blank\" href=https://colab.research.google.com/notebooks/data_table.ipynb>data table notebook</a>'\n",
              "          + ' to learn more about interactive tables.';\n",
              "        element.innerHTML = '';\n",
              "        dataTable['output_type'] = 'display_data';\n",
              "        await google.colab.output.renderOutput(dataTable, element);\n",
              "        const docLink = document.createElement('div');\n",
              "        docLink.innerHTML = docLinkHtml;\n",
              "        element.appendChild(docLink);\n",
              "      }\n",
              "    </script>\n",
              "  </div>\n",
              "\n",
              "\n",
              "<div id=\"df-95583f2e-4c3d-474f-9ef2-c6a970bc57c6\">\n",
              "  <button class=\"colab-df-quickchart\" onclick=\"quickchart('df-95583f2e-4c3d-474f-9ef2-c6a970bc57c6')\"\n",
              "            title=\"Suggest charts\"\n",
              "            style=\"display:none;\">\n",
              "\n",
              "<svg xmlns=\"http://www.w3.org/2000/svg\" height=\"24px\"viewBox=\"0 0 24 24\"\n",
              "     width=\"24px\">\n",
              "    <g>\n",
              "        <path d=\"M19 3H5c-1.1 0-2 .9-2 2v14c0 1.1.9 2 2 2h14c1.1 0 2-.9 2-2V5c0-1.1-.9-2-2-2zM9 17H7v-7h2v7zm4 0h-2V7h2v10zm4 0h-2v-4h2v4z\"/>\n",
              "    </g>\n",
              "</svg>\n",
              "  </button>\n",
              "\n",
              "<style>\n",
              "  .colab-df-quickchart {\n",
              "      --bg-color: #E8F0FE;\n",
              "      --fill-color: #1967D2;\n",
              "      --hover-bg-color: #E2EBFA;\n",
              "      --hover-fill-color: #174EA6;\n",
              "      --disabled-fill-color: #AAA;\n",
              "      --disabled-bg-color: #DDD;\n",
              "  }\n",
              "\n",
              "  [theme=dark] .colab-df-quickchart {\n",
              "      --bg-color: #3B4455;\n",
              "      --fill-color: #D2E3FC;\n",
              "      --hover-bg-color: #434B5C;\n",
              "      --hover-fill-color: #FFFFFF;\n",
              "      --disabled-bg-color: #3B4455;\n",
              "      --disabled-fill-color: #666;\n",
              "  }\n",
              "\n",
              "  .colab-df-quickchart {\n",
              "    background-color: var(--bg-color);\n",
              "    border: none;\n",
              "    border-radius: 50%;\n",
              "    cursor: pointer;\n",
              "    display: none;\n",
              "    fill: var(--fill-color);\n",
              "    height: 32px;\n",
              "    padding: 0;\n",
              "    width: 32px;\n",
              "  }\n",
              "\n",
              "  .colab-df-quickchart:hover {\n",
              "    background-color: var(--hover-bg-color);\n",
              "    box-shadow: 0 1px 2px rgba(60, 64, 67, 0.3), 0 1px 3px 1px rgba(60, 64, 67, 0.15);\n",
              "    fill: var(--button-hover-fill-color);\n",
              "  }\n",
              "\n",
              "  .colab-df-quickchart-complete:disabled,\n",
              "  .colab-df-quickchart-complete:disabled:hover {\n",
              "    background-color: var(--disabled-bg-color);\n",
              "    fill: var(--disabled-fill-color);\n",
              "    box-shadow: none;\n",
              "  }\n",
              "\n",
              "  .colab-df-spinner {\n",
              "    border: 2px solid var(--fill-color);\n",
              "    border-color: transparent;\n",
              "    border-bottom-color: var(--fill-color);\n",
              "    animation:\n",
              "      spin 1s steps(1) infinite;\n",
              "  }\n",
              "\n",
              "  @keyframes spin {\n",
              "    0% {\n",
              "      border-color: transparent;\n",
              "      border-bottom-color: var(--fill-color);\n",
              "      border-left-color: var(--fill-color);\n",
              "    }\n",
              "    20% {\n",
              "      border-color: transparent;\n",
              "      border-left-color: var(--fill-color);\n",
              "      border-top-color: var(--fill-color);\n",
              "    }\n",
              "    30% {\n",
              "      border-color: transparent;\n",
              "      border-left-color: var(--fill-color);\n",
              "      border-top-color: var(--fill-color);\n",
              "      border-right-color: var(--fill-color);\n",
              "    }\n",
              "    40% {\n",
              "      border-color: transparent;\n",
              "      border-right-color: var(--fill-color);\n",
              "      border-top-color: var(--fill-color);\n",
              "    }\n",
              "    60% {\n",
              "      border-color: transparent;\n",
              "      border-right-color: var(--fill-color);\n",
              "    }\n",
              "    80% {\n",
              "      border-color: transparent;\n",
              "      border-right-color: var(--fill-color);\n",
              "      border-bottom-color: var(--fill-color);\n",
              "    }\n",
              "    90% {\n",
              "      border-color: transparent;\n",
              "      border-bottom-color: var(--fill-color);\n",
              "    }\n",
              "  }\n",
              "</style>\n",
              "\n",
              "  <script>\n",
              "    async function quickchart(key) {\n",
              "      const quickchartButtonEl =\n",
              "        document.querySelector('#' + key + ' button');\n",
              "      quickchartButtonEl.disabled = true;  // To prevent multiple clicks.\n",
              "      quickchartButtonEl.classList.add('colab-df-spinner');\n",
              "      try {\n",
              "        const charts = await google.colab.kernel.invokeFunction(\n",
              "            'suggestCharts', [key], {});\n",
              "      } catch (error) {\n",
              "        console.error('Error during call to suggestCharts:', error);\n",
              "      }\n",
              "      quickchartButtonEl.classList.remove('colab-df-spinner');\n",
              "      quickchartButtonEl.classList.add('colab-df-quickchart-complete');\n",
              "    }\n",
              "    (() => {\n",
              "      let quickchartButtonEl =\n",
              "        document.querySelector('#df-95583f2e-4c3d-474f-9ef2-c6a970bc57c6 button');\n",
              "      quickchartButtonEl.style.display =\n",
              "        google.colab.kernel.accessAllowed ? 'block' : 'none';\n",
              "    })();\n",
              "  </script>\n",
              "</div>\n",
              "\n",
              "    </div>\n",
              "  </div>\n"
            ],
            "application/vnd.google.colaboratory.intrinsic+json": {
              "type": "dataframe",
              "variable_name": "df1",
              "summary": "{\n  \"name\": \"df1\",\n  \"rows\": 3792,\n  \"fields\": [\n    {\n      \"column\": \"rownames\",\n      \"properties\": {\n        \"dtype\": \"number\",\n        \"std\": 1094,\n        \"min\": 1,\n        \"max\": 3792,\n        \"num_unique_values\": 3792,\n        \"samples\": [\n          1583,\n          3539,\n          264\n        ],\n        \"semantic_type\": \"\",\n        \"description\": \"\"\n      }\n    },\n    {\n      \"column\": \"Anger\",\n      \"properties\": {\n        \"dtype\": \"number\",\n        \"std\": 4,\n        \"min\": 11,\n        \"max\": 39,\n        \"num_unique_values\": 26,\n        \"samples\": [\n          18,\n          19,\n          20\n        ],\n        \"semantic_type\": \"\",\n        \"description\": \"\"\n      }\n    },\n    {\n      \"column\": \"Gender\",\n      \"properties\": {\n        \"dtype\": \"category\",\n        \"num_unique_values\": 2,\n        \"samples\": [\n          \"F\",\n          \"M\"\n        ],\n        \"semantic_type\": \"\",\n        \"description\": \"\"\n      }\n    },\n    {\n      \"column\": \"item\",\n      \"properties\": {\n        \"dtype\": \"category\",\n        \"num_unique_values\": 12,\n        \"samples\": [\n          \"S4WantScold\",\n          \"S4wantCurse\"\n        ],\n        \"semantic_type\": \"\",\n        \"description\": \"\"\n      }\n    },\n    {\n      \"column\": \"resp\",\n      \"properties\": {\n        \"dtype\": \"category\",\n        \"num_unique_values\": 3,\n        \"samples\": [\n          \"no\",\n          \"perhaps\"\n        ],\n        \"semantic_type\": \"\",\n        \"description\": \"\"\n      }\n    },\n    {\n      \"column\": \"id\",\n      \"properties\": {\n        \"dtype\": \"number\",\n        \"std\": 91,\n        \"min\": 1,\n        \"max\": 316,\n        \"num_unique_values\": 316,\n        \"samples\": [\n          174,\n          34\n        ],\n        \"semantic_type\": \"\",\n        \"description\": \"\"\n      }\n    },\n    {\n      \"column\": \"btype\",\n      \"properties\": {\n        \"dtype\": \"category\",\n        \"num_unique_values\": 3,\n        \"samples\": [\n          \"curse\",\n          \"scold\"\n        ],\n        \"semantic_type\": \"\",\n        \"description\": \"\"\n      }\n    },\n    {\n      \"column\": \"situ\",\n      \"properties\": {\n        \"dtype\": \"category\",\n        \"num_unique_values\": 2,\n        \"samples\": [\n          \"self\",\n          \"other\"\n        ],\n        \"semantic_type\": \"\",\n        \"description\": \"\"\n      }\n    },\n    {\n      \"column\": \"mode\",\n      \"properties\": {\n        \"dtype\": \"category\",\n        \"num_unique_values\": 1,\n        \"samples\": [\n          \"want\"\n        ],\n        \"semantic_type\": \"\",\n        \"description\": \"\"\n      }\n    },\n    {\n      \"column\": \"r2\",\n      \"properties\": {\n        \"dtype\": \"category\",\n        \"num_unique_values\": 2,\n        \"samples\": [\n          \"Y\"\n        ],\n        \"semantic_type\": \"\",\n        \"description\": \"\"\n      }\n    }\n  ]\n}"
            }
          },
          "metadata": {},
          "execution_count": 5
        }
      ]
    },
    {
      "cell_type": "code",
      "source": [
        "print(df2.shape)\n",
        "df2.head(10)"
      ],
      "metadata": {
        "colab": {
          "base_uri": "https://localhost:8080/",
          "height": 381
        },
        "id": "QEmFzyH0cLny",
        "outputId": "71fab278-9d79-4489-9537-85af802b429a"
      },
      "execution_count": 6,
      "outputs": [
        {
          "output_type": "stream",
          "name": "stdout",
          "text": [
            "(3792, 10)\n"
          ]
        },
        {
          "output_type": "execute_result",
          "data": {
            "text/plain": [
              "      rownames  Anger Gender       item     resp  id  btype   situ mode r2\n",
              "3792      3793     20      M  S1DoCurse  perhaps   1  curse  other   do  Y\n",
              "3793      3794     11      M  S1DoCurse       no   2  curse  other   do  N\n",
              "3794      3795     17      F  S1DoCurse       no   3  curse  other   do  N\n",
              "3795      3796     21      F  S1DoCurse  perhaps   4  curse  other   do  Y\n",
              "3796      3797     17      F  S1DoCurse  perhaps   5  curse  other   do  Y\n",
              "3797      3798     21      F  S1DoCurse      yes   6  curse  other   do  Y\n",
              "3798      3799     39      F  S1DoCurse      yes   7  curse  other   do  Y\n",
              "3799      3800     21      F  S1DoCurse      yes   8  curse  other   do  Y\n",
              "3800      3801     24      F  S1DoCurse      yes   9  curse  other   do  Y\n",
              "3801      3802     16      F  S1DoCurse  perhaps  10  curse  other   do  Y"
            ],
            "text/html": [
              "\n",
              "  <div id=\"df-3218268f-6124-4a0e-873e-a2087f29658f\" class=\"colab-df-container\">\n",
              "    <div>\n",
              "<style scoped>\n",
              "    .dataframe tbody tr th:only-of-type {\n",
              "        vertical-align: middle;\n",
              "    }\n",
              "\n",
              "    .dataframe tbody tr th {\n",
              "        vertical-align: top;\n",
              "    }\n",
              "\n",
              "    .dataframe thead th {\n",
              "        text-align: right;\n",
              "    }\n",
              "</style>\n",
              "<table border=\"1\" class=\"dataframe\">\n",
              "  <thead>\n",
              "    <tr style=\"text-align: right;\">\n",
              "      <th></th>\n",
              "      <th>rownames</th>\n",
              "      <th>Anger</th>\n",
              "      <th>Gender</th>\n",
              "      <th>item</th>\n",
              "      <th>resp</th>\n",
              "      <th>id</th>\n",
              "      <th>btype</th>\n",
              "      <th>situ</th>\n",
              "      <th>mode</th>\n",
              "      <th>r2</th>\n",
              "    </tr>\n",
              "  </thead>\n",
              "  <tbody>\n",
              "    <tr>\n",
              "      <th>3792</th>\n",
              "      <td>3793</td>\n",
              "      <td>20</td>\n",
              "      <td>M</td>\n",
              "      <td>S1DoCurse</td>\n",
              "      <td>perhaps</td>\n",
              "      <td>1</td>\n",
              "      <td>curse</td>\n",
              "      <td>other</td>\n",
              "      <td>do</td>\n",
              "      <td>Y</td>\n",
              "    </tr>\n",
              "    <tr>\n",
              "      <th>3793</th>\n",
              "      <td>3794</td>\n",
              "      <td>11</td>\n",
              "      <td>M</td>\n",
              "      <td>S1DoCurse</td>\n",
              "      <td>no</td>\n",
              "      <td>2</td>\n",
              "      <td>curse</td>\n",
              "      <td>other</td>\n",
              "      <td>do</td>\n",
              "      <td>N</td>\n",
              "    </tr>\n",
              "    <tr>\n",
              "      <th>3794</th>\n",
              "      <td>3795</td>\n",
              "      <td>17</td>\n",
              "      <td>F</td>\n",
              "      <td>S1DoCurse</td>\n",
              "      <td>no</td>\n",
              "      <td>3</td>\n",
              "      <td>curse</td>\n",
              "      <td>other</td>\n",
              "      <td>do</td>\n",
              "      <td>N</td>\n",
              "    </tr>\n",
              "    <tr>\n",
              "      <th>3795</th>\n",
              "      <td>3796</td>\n",
              "      <td>21</td>\n",
              "      <td>F</td>\n",
              "      <td>S1DoCurse</td>\n",
              "      <td>perhaps</td>\n",
              "      <td>4</td>\n",
              "      <td>curse</td>\n",
              "      <td>other</td>\n",
              "      <td>do</td>\n",
              "      <td>Y</td>\n",
              "    </tr>\n",
              "    <tr>\n",
              "      <th>3796</th>\n",
              "      <td>3797</td>\n",
              "      <td>17</td>\n",
              "      <td>F</td>\n",
              "      <td>S1DoCurse</td>\n",
              "      <td>perhaps</td>\n",
              "      <td>5</td>\n",
              "      <td>curse</td>\n",
              "      <td>other</td>\n",
              "      <td>do</td>\n",
              "      <td>Y</td>\n",
              "    </tr>\n",
              "    <tr>\n",
              "      <th>3797</th>\n",
              "      <td>3798</td>\n",
              "      <td>21</td>\n",
              "      <td>F</td>\n",
              "      <td>S1DoCurse</td>\n",
              "      <td>yes</td>\n",
              "      <td>6</td>\n",
              "      <td>curse</td>\n",
              "      <td>other</td>\n",
              "      <td>do</td>\n",
              "      <td>Y</td>\n",
              "    </tr>\n",
              "    <tr>\n",
              "      <th>3798</th>\n",
              "      <td>3799</td>\n",
              "      <td>39</td>\n",
              "      <td>F</td>\n",
              "      <td>S1DoCurse</td>\n",
              "      <td>yes</td>\n",
              "      <td>7</td>\n",
              "      <td>curse</td>\n",
              "      <td>other</td>\n",
              "      <td>do</td>\n",
              "      <td>Y</td>\n",
              "    </tr>\n",
              "    <tr>\n",
              "      <th>3799</th>\n",
              "      <td>3800</td>\n",
              "      <td>21</td>\n",
              "      <td>F</td>\n",
              "      <td>S1DoCurse</td>\n",
              "      <td>yes</td>\n",
              "      <td>8</td>\n",
              "      <td>curse</td>\n",
              "      <td>other</td>\n",
              "      <td>do</td>\n",
              "      <td>Y</td>\n",
              "    </tr>\n",
              "    <tr>\n",
              "      <th>3800</th>\n",
              "      <td>3801</td>\n",
              "      <td>24</td>\n",
              "      <td>F</td>\n",
              "      <td>S1DoCurse</td>\n",
              "      <td>yes</td>\n",
              "      <td>9</td>\n",
              "      <td>curse</td>\n",
              "      <td>other</td>\n",
              "      <td>do</td>\n",
              "      <td>Y</td>\n",
              "    </tr>\n",
              "    <tr>\n",
              "      <th>3801</th>\n",
              "      <td>3802</td>\n",
              "      <td>16</td>\n",
              "      <td>F</td>\n",
              "      <td>S1DoCurse</td>\n",
              "      <td>perhaps</td>\n",
              "      <td>10</td>\n",
              "      <td>curse</td>\n",
              "      <td>other</td>\n",
              "      <td>do</td>\n",
              "      <td>Y</td>\n",
              "    </tr>\n",
              "  </tbody>\n",
              "</table>\n",
              "</div>\n",
              "    <div class=\"colab-df-buttons\">\n",
              "\n",
              "  <div class=\"colab-df-container\">\n",
              "    <button class=\"colab-df-convert\" onclick=\"convertToInteractive('df-3218268f-6124-4a0e-873e-a2087f29658f')\"\n",
              "            title=\"Convert this dataframe to an interactive table.\"\n",
              "            style=\"display:none;\">\n",
              "\n",
              "  <svg xmlns=\"http://www.w3.org/2000/svg\" height=\"24px\" viewBox=\"0 -960 960 960\">\n",
              "    <path d=\"M120-120v-720h720v720H120Zm60-500h600v-160H180v160Zm220 220h160v-160H400v160Zm0 220h160v-160H400v160ZM180-400h160v-160H180v160Zm440 0h160v-160H620v160ZM180-180h160v-160H180v160Zm440 0h160v-160H620v160Z\"/>\n",
              "  </svg>\n",
              "    </button>\n",
              "\n",
              "  <style>\n",
              "    .colab-df-container {\n",
              "      display:flex;\n",
              "      gap: 12px;\n",
              "    }\n",
              "\n",
              "    .colab-df-convert {\n",
              "      background-color: #E8F0FE;\n",
              "      border: none;\n",
              "      border-radius: 50%;\n",
              "      cursor: pointer;\n",
              "      display: none;\n",
              "      fill: #1967D2;\n",
              "      height: 32px;\n",
              "      padding: 0 0 0 0;\n",
              "      width: 32px;\n",
              "    }\n",
              "\n",
              "    .colab-df-convert:hover {\n",
              "      background-color: #E2EBFA;\n",
              "      box-shadow: 0px 1px 2px rgba(60, 64, 67, 0.3), 0px 1px 3px 1px rgba(60, 64, 67, 0.15);\n",
              "      fill: #174EA6;\n",
              "    }\n",
              "\n",
              "    .colab-df-buttons div {\n",
              "      margin-bottom: 4px;\n",
              "    }\n",
              "\n",
              "    [theme=dark] .colab-df-convert {\n",
              "      background-color: #3B4455;\n",
              "      fill: #D2E3FC;\n",
              "    }\n",
              "\n",
              "    [theme=dark] .colab-df-convert:hover {\n",
              "      background-color: #434B5C;\n",
              "      box-shadow: 0px 1px 3px 1px rgba(0, 0, 0, 0.15);\n",
              "      filter: drop-shadow(0px 1px 2px rgba(0, 0, 0, 0.3));\n",
              "      fill: #FFFFFF;\n",
              "    }\n",
              "  </style>\n",
              "\n",
              "    <script>\n",
              "      const buttonEl =\n",
              "        document.querySelector('#df-3218268f-6124-4a0e-873e-a2087f29658f button.colab-df-convert');\n",
              "      buttonEl.style.display =\n",
              "        google.colab.kernel.accessAllowed ? 'block' : 'none';\n",
              "\n",
              "      async function convertToInteractive(key) {\n",
              "        const element = document.querySelector('#df-3218268f-6124-4a0e-873e-a2087f29658f');\n",
              "        const dataTable =\n",
              "          await google.colab.kernel.invokeFunction('convertToInteractive',\n",
              "                                                    [key], {});\n",
              "        if (!dataTable) return;\n",
              "\n",
              "        const docLinkHtml = 'Like what you see? Visit the ' +\n",
              "          '<a target=\"_blank\" href=https://colab.research.google.com/notebooks/data_table.ipynb>data table notebook</a>'\n",
              "          + ' to learn more about interactive tables.';\n",
              "        element.innerHTML = '';\n",
              "        dataTable['output_type'] = 'display_data';\n",
              "        await google.colab.output.renderOutput(dataTable, element);\n",
              "        const docLink = document.createElement('div');\n",
              "        docLink.innerHTML = docLinkHtml;\n",
              "        element.appendChild(docLink);\n",
              "      }\n",
              "    </script>\n",
              "  </div>\n",
              "\n",
              "\n",
              "<div id=\"df-d5d4c40f-92c2-429d-b66f-a462498daceb\">\n",
              "  <button class=\"colab-df-quickchart\" onclick=\"quickchart('df-d5d4c40f-92c2-429d-b66f-a462498daceb')\"\n",
              "            title=\"Suggest charts\"\n",
              "            style=\"display:none;\">\n",
              "\n",
              "<svg xmlns=\"http://www.w3.org/2000/svg\" height=\"24px\"viewBox=\"0 0 24 24\"\n",
              "     width=\"24px\">\n",
              "    <g>\n",
              "        <path d=\"M19 3H5c-1.1 0-2 .9-2 2v14c0 1.1.9 2 2 2h14c1.1 0 2-.9 2-2V5c0-1.1-.9-2-2-2zM9 17H7v-7h2v7zm4 0h-2V7h2v10zm4 0h-2v-4h2v4z\"/>\n",
              "    </g>\n",
              "</svg>\n",
              "  </button>\n",
              "\n",
              "<style>\n",
              "  .colab-df-quickchart {\n",
              "      --bg-color: #E8F0FE;\n",
              "      --fill-color: #1967D2;\n",
              "      --hover-bg-color: #E2EBFA;\n",
              "      --hover-fill-color: #174EA6;\n",
              "      --disabled-fill-color: #AAA;\n",
              "      --disabled-bg-color: #DDD;\n",
              "  }\n",
              "\n",
              "  [theme=dark] .colab-df-quickchart {\n",
              "      --bg-color: #3B4455;\n",
              "      --fill-color: #D2E3FC;\n",
              "      --hover-bg-color: #434B5C;\n",
              "      --hover-fill-color: #FFFFFF;\n",
              "      --disabled-bg-color: #3B4455;\n",
              "      --disabled-fill-color: #666;\n",
              "  }\n",
              "\n",
              "  .colab-df-quickchart {\n",
              "    background-color: var(--bg-color);\n",
              "    border: none;\n",
              "    border-radius: 50%;\n",
              "    cursor: pointer;\n",
              "    display: none;\n",
              "    fill: var(--fill-color);\n",
              "    height: 32px;\n",
              "    padding: 0;\n",
              "    width: 32px;\n",
              "  }\n",
              "\n",
              "  .colab-df-quickchart:hover {\n",
              "    background-color: var(--hover-bg-color);\n",
              "    box-shadow: 0 1px 2px rgba(60, 64, 67, 0.3), 0 1px 3px 1px rgba(60, 64, 67, 0.15);\n",
              "    fill: var(--button-hover-fill-color);\n",
              "  }\n",
              "\n",
              "  .colab-df-quickchart-complete:disabled,\n",
              "  .colab-df-quickchart-complete:disabled:hover {\n",
              "    background-color: var(--disabled-bg-color);\n",
              "    fill: var(--disabled-fill-color);\n",
              "    box-shadow: none;\n",
              "  }\n",
              "\n",
              "  .colab-df-spinner {\n",
              "    border: 2px solid var(--fill-color);\n",
              "    border-color: transparent;\n",
              "    border-bottom-color: var(--fill-color);\n",
              "    animation:\n",
              "      spin 1s steps(1) infinite;\n",
              "  }\n",
              "\n",
              "  @keyframes spin {\n",
              "    0% {\n",
              "      border-color: transparent;\n",
              "      border-bottom-color: var(--fill-color);\n",
              "      border-left-color: var(--fill-color);\n",
              "    }\n",
              "    20% {\n",
              "      border-color: transparent;\n",
              "      border-left-color: var(--fill-color);\n",
              "      border-top-color: var(--fill-color);\n",
              "    }\n",
              "    30% {\n",
              "      border-color: transparent;\n",
              "      border-left-color: var(--fill-color);\n",
              "      border-top-color: var(--fill-color);\n",
              "      border-right-color: var(--fill-color);\n",
              "    }\n",
              "    40% {\n",
              "      border-color: transparent;\n",
              "      border-right-color: var(--fill-color);\n",
              "      border-top-color: var(--fill-color);\n",
              "    }\n",
              "    60% {\n",
              "      border-color: transparent;\n",
              "      border-right-color: var(--fill-color);\n",
              "    }\n",
              "    80% {\n",
              "      border-color: transparent;\n",
              "      border-right-color: var(--fill-color);\n",
              "      border-bottom-color: var(--fill-color);\n",
              "    }\n",
              "    90% {\n",
              "      border-color: transparent;\n",
              "      border-bottom-color: var(--fill-color);\n",
              "    }\n",
              "  }\n",
              "</style>\n",
              "\n",
              "  <script>\n",
              "    async function quickchart(key) {\n",
              "      const quickchartButtonEl =\n",
              "        document.querySelector('#' + key + ' button');\n",
              "      quickchartButtonEl.disabled = true;  // To prevent multiple clicks.\n",
              "      quickchartButtonEl.classList.add('colab-df-spinner');\n",
              "      try {\n",
              "        const charts = await google.colab.kernel.invokeFunction(\n",
              "            'suggestCharts', [key], {});\n",
              "      } catch (error) {\n",
              "        console.error('Error during call to suggestCharts:', error);\n",
              "      }\n",
              "      quickchartButtonEl.classList.remove('colab-df-spinner');\n",
              "      quickchartButtonEl.classList.add('colab-df-quickchart-complete');\n",
              "    }\n",
              "    (() => {\n",
              "      let quickchartButtonEl =\n",
              "        document.querySelector('#df-d5d4c40f-92c2-429d-b66f-a462498daceb button');\n",
              "      quickchartButtonEl.style.display =\n",
              "        google.colab.kernel.accessAllowed ? 'block' : 'none';\n",
              "    })();\n",
              "  </script>\n",
              "</div>\n",
              "\n",
              "    </div>\n",
              "  </div>\n"
            ],
            "application/vnd.google.colaboratory.intrinsic+json": {
              "type": "dataframe",
              "variable_name": "df2",
              "summary": "{\n  \"name\": \"df2\",\n  \"rows\": 3792,\n  \"fields\": [\n    {\n      \"column\": \"rownames\",\n      \"properties\": {\n        \"dtype\": \"number\",\n        \"std\": 1094,\n        \"min\": 3793,\n        \"max\": 7584,\n        \"num_unique_values\": 3792,\n        \"samples\": [\n          5375,\n          7331,\n          4056\n        ],\n        \"semantic_type\": \"\",\n        \"description\": \"\"\n      }\n    },\n    {\n      \"column\": \"Anger\",\n      \"properties\": {\n        \"dtype\": \"number\",\n        \"std\": 4,\n        \"min\": 11,\n        \"max\": 39,\n        \"num_unique_values\": 26,\n        \"samples\": [\n          18,\n          19,\n          20\n        ],\n        \"semantic_type\": \"\",\n        \"description\": \"\"\n      }\n    },\n    {\n      \"column\": \"Gender\",\n      \"properties\": {\n        \"dtype\": \"category\",\n        \"num_unique_values\": 2,\n        \"samples\": [\n          \"F\",\n          \"M\"\n        ],\n        \"semantic_type\": \"\",\n        \"description\": \"\"\n      }\n    },\n    {\n      \"column\": \"item\",\n      \"properties\": {\n        \"dtype\": \"category\",\n        \"num_unique_values\": 12,\n        \"samples\": [\n          \"S4DoScold\",\n          \"S4DoCurse\"\n        ],\n        \"semantic_type\": \"\",\n        \"description\": \"\"\n      }\n    },\n    {\n      \"column\": \"resp\",\n      \"properties\": {\n        \"dtype\": \"category\",\n        \"num_unique_values\": 3,\n        \"samples\": [\n          \"perhaps\",\n          \"no\"\n        ],\n        \"semantic_type\": \"\",\n        \"description\": \"\"\n      }\n    },\n    {\n      \"column\": \"id\",\n      \"properties\": {\n        \"dtype\": \"number\",\n        \"std\": 91,\n        \"min\": 1,\n        \"max\": 316,\n        \"num_unique_values\": 316,\n        \"samples\": [\n          174,\n          34\n        ],\n        \"semantic_type\": \"\",\n        \"description\": \"\"\n      }\n    },\n    {\n      \"column\": \"btype\",\n      \"properties\": {\n        \"dtype\": \"category\",\n        \"num_unique_values\": 3,\n        \"samples\": [\n          \"curse\",\n          \"scold\"\n        ],\n        \"semantic_type\": \"\",\n        \"description\": \"\"\n      }\n    },\n    {\n      \"column\": \"situ\",\n      \"properties\": {\n        \"dtype\": \"category\",\n        \"num_unique_values\": 2,\n        \"samples\": [\n          \"self\",\n          \"other\"\n        ],\n        \"semantic_type\": \"\",\n        \"description\": \"\"\n      }\n    },\n    {\n      \"column\": \"mode\",\n      \"properties\": {\n        \"dtype\": \"category\",\n        \"num_unique_values\": 1,\n        \"samples\": [\n          \"do\"\n        ],\n        \"semantic_type\": \"\",\n        \"description\": \"\"\n      }\n    },\n    {\n      \"column\": \"r2\",\n      \"properties\": {\n        \"dtype\": \"category\",\n        \"num_unique_values\": 2,\n        \"samples\": [\n          \"N\"\n        ],\n        \"semantic_type\": \"\",\n        \"description\": \"\"\n      }\n    }\n  ]\n}"
            }
          },
          "metadata": {},
          "execution_count": 6
        }
      ]
    },
    {
      "cell_type": "code",
      "source": [
        "# Concatenate the two dataframes row-wise\n",
        "concat_row = pd.concat([df1, df2], ignore_index=True)\n",
        "print(\"Concatenated (row-wise):\")\n",
        "print(concat_row)"
      ],
      "metadata": {
        "colab": {
          "base_uri": "https://localhost:8080/"
        },
        "id": "mDxr34uOcbgo",
        "outputId": "60d20b3c-b3b2-4028-fa2e-1534420ded5d"
      },
      "execution_count": 7,
      "outputs": [
        {
          "output_type": "stream",
          "name": "stdout",
          "text": [
            "Concatenated (row-wise):\n",
            "      rownames  Anger Gender         item     resp   id  btype   situ  mode r2\n",
            "0            1     20      M  S1WantCurse       no    1  curse  other  want  N\n",
            "1            2     11      M  S1WantCurse       no    2  curse  other  want  N\n",
            "2            3     17      F  S1WantCurse  perhaps    3  curse  other  want  Y\n",
            "3            4     21      F  S1WantCurse  perhaps    4  curse  other  want  Y\n",
            "4            5     17      F  S1WantCurse  perhaps    5  curse  other  want  Y\n",
            "...        ...    ...    ...          ...      ...  ...    ...    ...   ... ..\n",
            "7579      7580     17      M    S4DoShout       no  312  shout   self    do  N\n",
            "7580      7581     20      F    S4DoShout       no  313  shout   self    do  N\n",
            "7581      7582     25      F    S4DoShout       no  314  shout   self    do  N\n",
            "7582      7583     23      F    S4DoShout       no  315  shout   self    do  N\n",
            "7583      7584     12      F    S4DoShout       no  316  shout   self    do  N\n",
            "\n",
            "[7584 rows x 10 columns]\n"
          ]
        }
      ]
    },
    {
      "cell_type": "code",
      "source": [
        "# Concatenate the two dataframes column-wise\n",
        "concat_column = pd.concat([df1, df2], axis=1)\n",
        "print(\"\\nConcatenated (column-wise):\")\n",
        "print(concat_column)"
      ],
      "metadata": {
        "colab": {
          "base_uri": "https://localhost:8080/"
        },
        "id": "2IE5Gs1gcsNv",
        "outputId": "fa69766b-2483-49db-a06d-fd5bbe5b1e87"
      },
      "execution_count": 8,
      "outputs": [
        {
          "output_type": "stream",
          "name": "stdout",
          "text": [
            "\n",
            "Concatenated (column-wise):\n",
            "      rownames  Anger Gender         item     resp   id  btype   situ  mode  \\\n",
            "0          1.0   20.0      M  S1WantCurse       no  1.0  curse  other  want   \n",
            "1          2.0   11.0      M  S1WantCurse       no  2.0  curse  other  want   \n",
            "2          3.0   17.0      F  S1WantCurse  perhaps  3.0  curse  other  want   \n",
            "3          4.0   21.0      F  S1WantCurse  perhaps  4.0  curse  other  want   \n",
            "4          5.0   17.0      F  S1WantCurse  perhaps  5.0  curse  other  want   \n",
            "...        ...    ...    ...          ...      ...  ...    ...    ...   ...   \n",
            "7579       NaN    NaN    NaN          NaN      NaN  NaN    NaN    NaN   NaN   \n",
            "7580       NaN    NaN    NaN          NaN      NaN  NaN    NaN    NaN   NaN   \n",
            "7581       NaN    NaN    NaN          NaN      NaN  NaN    NaN    NaN   NaN   \n",
            "7582       NaN    NaN    NaN          NaN      NaN  NaN    NaN    NaN   NaN   \n",
            "7583       NaN    NaN    NaN          NaN      NaN  NaN    NaN    NaN   NaN   \n",
            "\n",
            "       r2  rownames  Anger Gender       item resp     id  btype  situ mode  \\\n",
            "0       N       NaN    NaN    NaN        NaN  NaN    NaN    NaN   NaN  NaN   \n",
            "1       N       NaN    NaN    NaN        NaN  NaN    NaN    NaN   NaN  NaN   \n",
            "2       Y       NaN    NaN    NaN        NaN  NaN    NaN    NaN   NaN  NaN   \n",
            "3       Y       NaN    NaN    NaN        NaN  NaN    NaN    NaN   NaN  NaN   \n",
            "4       Y       NaN    NaN    NaN        NaN  NaN    NaN    NaN   NaN  NaN   \n",
            "...   ...       ...    ...    ...        ...  ...    ...    ...   ...  ...   \n",
            "7579  NaN    7580.0   17.0      M  S4DoShout   no  312.0  shout  self   do   \n",
            "7580  NaN    7581.0   20.0      F  S4DoShout   no  313.0  shout  self   do   \n",
            "7581  NaN    7582.0   25.0      F  S4DoShout   no  314.0  shout  self   do   \n",
            "7582  NaN    7583.0   23.0      F  S4DoShout   no  315.0  shout  self   do   \n",
            "7583  NaN    7584.0   12.0      F  S4DoShout   no  316.0  shout  self   do   \n",
            "\n",
            "       r2  \n",
            "0     NaN  \n",
            "1     NaN  \n",
            "2     NaN  \n",
            "3     NaN  \n",
            "4     NaN  \n",
            "...   ...  \n",
            "7579    N  \n",
            "7580    N  \n",
            "7581    N  \n",
            "7582    N  \n",
            "7583    N  \n",
            "\n",
            "[7584 rows x 20 columns]\n"
          ]
        }
      ]
    },
    {
      "cell_type": "markdown",
      "source": [
        "## **Merging**"
      ],
      "metadata": {
        "id": "URPpsErUdH0f"
      }
    },
    {
      "cell_type": "markdown",
      "source": [
        "Splitting the dataset into 4 and performing Merge operations for the 4 dataframes.\n",
        "\n",
        "\n",
        "\n",
        "*   Left Join\n",
        "*   Right Join\n",
        "\n",
        "\n",
        "*   Inner Join\n",
        "*   Outer Join\n",
        "\n",
        "\n",
        "\n",
        "\n",
        "\n",
        "\n"
      ],
      "metadata": {
        "id": "vQcrn1UXdLB8"
      }
    },
    {
      "cell_type": "code",
      "source": [
        "print(data.columns)"
      ],
      "metadata": {
        "colab": {
          "base_uri": "https://localhost:8080/"
        },
        "id": "vJeYyw0AdsK9",
        "outputId": "1036ae7f-a7c1-4eb4-8750-87798a12352e"
      },
      "execution_count": 9,
      "outputs": [
        {
          "output_type": "stream",
          "name": "stdout",
          "text": [
            "Index(['rownames', 'Anger', 'Gender', 'item', 'resp', 'id', 'btype', 'situ',\n",
            "       'mode', 'r2'],\n",
            "      dtype='object')\n"
          ]
        }
      ]
    },
    {
      "cell_type": "code",
      "source": [
        "# Splitting the dataset into 4 dataframes\n",
        "df11 = data.iloc[:len(data)//4]          # First quarter\n",
        "df12 = data.iloc[len(data)//4:len(data)//2]  # Second quarter\n",
        "df13 = data.iloc[len(data)//2:3*len(data)//4]  # Third quarter\n",
        "df14 = data.iloc[3*len(data)//4:]          # Fourth quarter\n"
      ],
      "metadata": {
        "id": "9UKIBpJre9Mv"
      },
      "execution_count": 10,
      "outputs": []
    },
    {
      "cell_type": "code",
      "source": [
        "#Concat()\n",
        "df22 = pd.concat([df11, df12], ignore_index=True)\n",
        "df44 = pd.concat([df13, df14], ignore_index=True)\n",
        "\n",
        "#Inner join\n",
        "df_inner = df22.merge(df44, how='inner')\n",
        "print(df_inner.shape)\n",
        "print(\"Inner Join:\")\n",
        "print(df_inner.head())"
      ],
      "metadata": {
        "colab": {
          "base_uri": "https://localhost:8080/"
        },
        "id": "78bp0vaPfc5n",
        "outputId": "abded937-7177-474a-9f95-b73a86f71fda"
      },
      "execution_count": 11,
      "outputs": [
        {
          "output_type": "stream",
          "name": "stdout",
          "text": [
            "(0, 10)\n",
            "Inner Join:\n",
            "Empty DataFrame\n",
            "Columns: [rownames, Anger, Gender, item, resp, id, btype, situ, mode, r2]\n",
            "Index: []\n"
          ]
        }
      ]
    },
    {
      "cell_type": "code",
      "source": [
        "#Left join\n",
        "df_left = df22.merge(df44, how='left')\n",
        "print(df_left.shape)\n",
        "print(\"Left Join:\")\n",
        "print(df_left.head())"
      ],
      "metadata": {
        "colab": {
          "base_uri": "https://localhost:8080/"
        },
        "id": "SD4LP4kEfwrQ",
        "outputId": "e9943732-e551-4bdc-997b-92b2f2c2f542"
      },
      "execution_count": 12,
      "outputs": [
        {
          "output_type": "stream",
          "name": "stdout",
          "text": [
            "(3792, 10)\n",
            "Left Join:\n",
            "   rownames  Anger Gender         item     resp  id  btype   situ  mode r2\n",
            "0         1     20      M  S1WantCurse       no   1  curse  other  want  N\n",
            "1         2     11      M  S1WantCurse       no   2  curse  other  want  N\n",
            "2         3     17      F  S1WantCurse  perhaps   3  curse  other  want  Y\n",
            "3         4     21      F  S1WantCurse  perhaps   4  curse  other  want  Y\n",
            "4         5     17      F  S1WantCurse  perhaps   5  curse  other  want  Y\n"
          ]
        }
      ]
    },
    {
      "cell_type": "code",
      "source": [
        "#Right Join\n",
        "df_right = df22.merge(df22, how='right')\n",
        "print(df_right.shape)\n",
        "print(\"Right Join:\")\n",
        "print(df_right.head())"
      ],
      "metadata": {
        "colab": {
          "base_uri": "https://localhost:8080/"
        },
        "id": "IRi0Lc_-gAv0",
        "outputId": "fc0cd419-d8a8-4ddb-9f1c-7a42a0207eb3"
      },
      "execution_count": 13,
      "outputs": [
        {
          "output_type": "stream",
          "name": "stdout",
          "text": [
            "(3792, 10)\n",
            "Right Join:\n",
            "   rownames  Anger Gender         item     resp  id  btype   situ  mode r2\n",
            "0         1     20      M  S1WantCurse       no   1  curse  other  want  N\n",
            "1         2     11      M  S1WantCurse       no   2  curse  other  want  N\n",
            "2         3     17      F  S1WantCurse  perhaps   3  curse  other  want  Y\n",
            "3         4     21      F  S1WantCurse  perhaps   4  curse  other  want  Y\n",
            "4         5     17      F  S1WantCurse  perhaps   5  curse  other  want  Y\n"
          ]
        }
      ]
    },
    {
      "cell_type": "code",
      "source": [
        "#Outer Join\n",
        "df_outer = df22.merge(df44, how='outer')\n",
        "print(df_outer.shape)\n",
        "print(\"Outer Join:\")\n",
        "print(df_outer.head())"
      ],
      "metadata": {
        "colab": {
          "base_uri": "https://localhost:8080/"
        },
        "id": "NOnccPzSgSZY",
        "outputId": "b4a9deb8-84ed-472d-ba37-f927b0943270"
      },
      "execution_count": 14,
      "outputs": [
        {
          "output_type": "stream",
          "name": "stdout",
          "text": [
            "(7584, 10)\n",
            "Outer Join:\n",
            "   rownames  Anger Gender         item     resp  id  btype   situ  mode r2\n",
            "0         1     20      M  S1WantCurse       no   1  curse  other  want  N\n",
            "1         2     11      M  S1WantCurse       no   2  curse  other  want  N\n",
            "2         3     17      F  S1WantCurse  perhaps   3  curse  other  want  Y\n",
            "3         4     21      F  S1WantCurse  perhaps   4  curse  other  want  Y\n",
            "4         5     17      F  S1WantCurse  perhaps   5  curse  other  want  Y\n"
          ]
        }
      ]
    },
    {
      "cell_type": "markdown",
      "source": [
        "## **Reshaping with Hierarchical Indexing**"
      ],
      "metadata": {
        "id": "TN97dmfLgqBI"
      }
    },
    {
      "cell_type": "code",
      "source": [
        "df_reshaped = data.set_index(['rownames', 'Gender']).sort_index()\n",
        "print(\"Reshaped with hierarchical indexing:\")\n",
        "print(df_reshaped.head())"
      ],
      "metadata": {
        "colab": {
          "base_uri": "https://localhost:8080/"
        },
        "id": "bpT41_7YgvTV",
        "outputId": "e542a7f4-0985-42c6-fcca-35edc10d075f"
      },
      "execution_count": 15,
      "outputs": [
        {
          "output_type": "stream",
          "name": "stdout",
          "text": [
            "Reshaped with hierarchical indexing:\n",
            "                 Anger         item     resp  id  btype   situ  mode r2\n",
            "rownames Gender                                                        \n",
            "1        M          20  S1WantCurse       no   1  curse  other  want  N\n",
            "2        M          11  S1WantCurse       no   2  curse  other  want  N\n",
            "3        F          17  S1WantCurse  perhaps   3  curse  other  want  Y\n",
            "4        F          21  S1WantCurse  perhaps   4  curse  other  want  Y\n",
            "5        F          17  S1WantCurse  perhaps   5  curse  other  want  Y\n"
          ]
        }
      ]
    },
    {
      "cell_type": "markdown",
      "source": [
        "## **Transformation techniques**"
      ],
      "metadata": {
        "id": "k9QUPrtFhKaj"
      }
    },
    {
      "cell_type": "markdown",
      "source": [
        "### 1. Data Deduplication"
      ],
      "metadata": {
        "id": "cl5qGWvyhNkF"
      }
    },
    {
      "cell_type": "code",
      "source": [
        "deduplicated_df = data.drop_duplicates()\n",
        "print(\"Deduplicated DataFrame:\")\n",
        "print(deduplicated_df)"
      ],
      "metadata": {
        "colab": {
          "base_uri": "https://localhost:8080/"
        },
        "id": "JapDtdVziDBN",
        "outputId": "1de94f1a-c0d1-42a5-f2f5-3fbbbad69e82"
      },
      "execution_count": 16,
      "outputs": [
        {
          "output_type": "stream",
          "name": "stdout",
          "text": [
            "Deduplicated DataFrame:\n",
            "      rownames  Anger Gender         item     resp   id  btype   situ  mode r2\n",
            "0            1     20      M  S1WantCurse       no    1  curse  other  want  N\n",
            "1            2     11      M  S1WantCurse       no    2  curse  other  want  N\n",
            "2            3     17      F  S1WantCurse  perhaps    3  curse  other  want  Y\n",
            "3            4     21      F  S1WantCurse  perhaps    4  curse  other  want  Y\n",
            "4            5     17      F  S1WantCurse  perhaps    5  curse  other  want  Y\n",
            "...        ...    ...    ...          ...      ...  ...    ...    ...   ... ..\n",
            "7579      7580     17      M    S4DoShout       no  312  shout   self    do  N\n",
            "7580      7581     20      F    S4DoShout       no  313  shout   self    do  N\n",
            "7581      7582     25      F    S4DoShout       no  314  shout   self    do  N\n",
            "7582      7583     23      F    S4DoShout       no  315  shout   self    do  N\n",
            "7583      7584     12      F    S4DoShout       no  316  shout   self    do  N\n",
            "\n",
            "[7584 rows x 10 columns]\n"
          ]
        }
      ]
    },
    {
      "cell_type": "markdown",
      "source": [
        "### 2. Replacing values from the dataset to a new dataset"
      ],
      "metadata": {
        "id": "TMvF7YwqiUpR"
      }
    },
    {
      "cell_type": "code",
      "source": [
        "#Replacing \"yes\" with \"Y\" and \"no\" with \"N\" in the 'resp' column\n",
        "\n",
        "replaced_df = data.copy()\n",
        "replaced_df['resp'] = replaced_df['resp'].replace({'yes': 'Y', 'no': 'N'})\n",
        "print(data.head)\n",
        "print(\"DataFrame with replaced values:\")\n",
        "print(replaced_df.head())"
      ],
      "metadata": {
        "colab": {
          "base_uri": "https://localhost:8080/"
        },
        "id": "609pi5rOi5Jc",
        "outputId": "bbf8af6f-2393-4cbc-c374-56d629fcb47b"
      },
      "execution_count": 17,
      "outputs": [
        {
          "output_type": "stream",
          "name": "stdout",
          "text": [
            "<bound method NDFrame.head of       rownames  Anger Gender         item     resp   id  btype   situ  mode r2\n",
            "0            1     20      M  S1WantCurse       no    1  curse  other  want  N\n",
            "1            2     11      M  S1WantCurse       no    2  curse  other  want  N\n",
            "2            3     17      F  S1WantCurse  perhaps    3  curse  other  want  Y\n",
            "3            4     21      F  S1WantCurse  perhaps    4  curse  other  want  Y\n",
            "4            5     17      F  S1WantCurse  perhaps    5  curse  other  want  Y\n",
            "...        ...    ...    ...          ...      ...  ...    ...    ...   ... ..\n",
            "7579      7580     17      M    S4DoShout       no  312  shout   self    do  N\n",
            "7580      7581     20      F    S4DoShout       no  313  shout   self    do  N\n",
            "7581      7582     25      F    S4DoShout       no  314  shout   self    do  N\n",
            "7582      7583     23      F    S4DoShout       no  315  shout   self    do  N\n",
            "7583      7584     12      F    S4DoShout       no  316  shout   self    do  N\n",
            "\n",
            "[7584 rows x 10 columns]>\n",
            "DataFrame with replaced values:\n",
            "   rownames  Anger Gender         item     resp  id  btype   situ  mode r2\n",
            "0         1     20      M  S1WantCurse        N   1  curse  other  want  N\n",
            "1         2     11      M  S1WantCurse        N   2  curse  other  want  N\n",
            "2         3     17      F  S1WantCurse  perhaps   3  curse  other  want  Y\n",
            "3         4     21      F  S1WantCurse  perhaps   4  curse  other  want  Y\n",
            "4         5     17      F  S1WantCurse  perhaps   5  curse  other  want  Y\n"
          ]
        }
      ]
    },
    {
      "cell_type": "markdown",
      "source": [
        "### 3. Handling missing data"
      ],
      "metadata": {
        "id": "kx3VtrmBj4HB"
      }
    },
    {
      "cell_type": "code",
      "source": [
        "missing_data = data.isnull().sum()\n",
        "print(\"Missing data count per column:\")\n",
        "print(missing_data)\n"
      ],
      "metadata": {
        "colab": {
          "base_uri": "https://localhost:8080/"
        },
        "id": "KuEwF9D5kBcz",
        "outputId": "70cc6d7b-8cf0-4899-ef8a-813045f8bd03"
      },
      "execution_count": 18,
      "outputs": [
        {
          "output_type": "stream",
          "name": "stdout",
          "text": [
            "Missing data count per column:\n",
            "rownames    0\n",
            "Anger       0\n",
            "Gender      0\n",
            "item        0\n",
            "resp        0\n",
            "id          0\n",
            "btype       0\n",
            "situ        0\n",
            "mode        0\n",
            "r2          0\n",
            "dtype: int64\n"
          ]
        }
      ]
    },
    {
      "cell_type": "markdown",
      "source": [
        "### 4. Dropping missing values"
      ],
      "metadata": {
        "id": "eouBiYJikHUV"
      }
    },
    {
      "cell_type": "code",
      "source": [
        "df_dropped_na = data.dropna()\n",
        "print(\"DataFrame after dropping missing values:\")\n",
        "print(df_dropped_na.head())\n",
        "\n",
        "data.isnull().values.any()"
      ],
      "metadata": {
        "colab": {
          "base_uri": "https://localhost:8080/"
        },
        "id": "6HCENt0ZkP3G",
        "outputId": "8fd05b0f-e0a5-4ed6-f3ff-3dd9a23a86de"
      },
      "execution_count": 19,
      "outputs": [
        {
          "output_type": "stream",
          "name": "stdout",
          "text": [
            "DataFrame after dropping missing values:\n",
            "   rownames  Anger Gender         item     resp  id  btype   situ  mode r2\n",
            "0         1     20      M  S1WantCurse       no   1  curse  other  want  N\n",
            "1         2     11      M  S1WantCurse       no   2  curse  other  want  N\n",
            "2         3     17      F  S1WantCurse  perhaps   3  curse  other  want  Y\n",
            "3         4     21      F  S1WantCurse  perhaps   4  curse  other  want  Y\n",
            "4         5     17      F  S1WantCurse  perhaps   5  curse  other  want  Y\n"
          ]
        },
        {
          "output_type": "execute_result",
          "data": {
            "text/plain": [
              "False"
            ]
          },
          "metadata": {},
          "execution_count": 19
        }
      ]
    },
    {
      "cell_type": "markdown",
      "source": [
        "### 5. Filling missing values\n"
      ],
      "metadata": {
        "id": "6Lyw9ITnkWdZ"
      }
    },
    {
      "cell_type": "code",
      "source": [
        "#Filling missing values with 'Mean' value\n",
        "\n",
        "\n",
        "df_filled_na = data.fillna(data.mean(numeric_only=True))\n",
        "print(\"DataFrame after filling missing values:\")\n",
        "print(df_filled_na.head())\n",
        "\n",
        "data.isnull().values.any()"
      ],
      "metadata": {
        "colab": {
          "base_uri": "https://localhost:8080/"
        },
        "id": "BWuzGtjOkeBm",
        "outputId": "01bc33d5-ce8c-43de-8d0e-ad2454d683de"
      },
      "execution_count": 20,
      "outputs": [
        {
          "output_type": "stream",
          "name": "stdout",
          "text": [
            "DataFrame after filling missing values:\n",
            "   rownames  Anger Gender         item     resp  id  btype   situ  mode r2\n",
            "0         1     20      M  S1WantCurse       no   1  curse  other  want  N\n",
            "1         2     11      M  S1WantCurse       no   2  curse  other  want  N\n",
            "2         3     17      F  S1WantCurse  perhaps   3  curse  other  want  Y\n",
            "3         4     21      F  S1WantCurse  perhaps   4  curse  other  want  Y\n",
            "4         5     17      F  S1WantCurse  perhaps   5  curse  other  want  Y\n"
          ]
        },
        {
          "output_type": "execute_result",
          "data": {
            "text/plain": [
              "False"
            ]
          },
          "metadata": {},
          "execution_count": 20
        }
      ]
    },
    {
      "cell_type": "markdown",
      "source": [
        "## **Discretization and binning**"
      ],
      "metadata": {
        "id": "p4pXXXyiILqO"
      }
    },
    {
      "cell_type": "code",
      "source": [
        "# Bin edges\n",
        "bins = [0, 10, 20, 40]\n",
        "# Bin labels\n",
        "bin_labels = ['low', 'medium', 'high']\n",
        "\n",
        "# Perform binning\n",
        "data['Anger_binned'] = pd.cut(data['Anger'], bins=bins, labels=bin_labels, include_lowest=True)\n",
        "\n",
        "print(\"Discretized (Binned) 'Anger' Column:\")\n",
        "print(data[['Anger', 'Anger_binned']])"
      ],
      "metadata": {
        "colab": {
          "base_uri": "https://localhost:8080/"
        },
        "id": "0kbiNxE4IOeJ",
        "outputId": "aafc7bb6-2ad3-429d-b54b-eb965eb68771"
      },
      "execution_count": 23,
      "outputs": [
        {
          "output_type": "stream",
          "name": "stdout",
          "text": [
            "Discretized (Binned) 'Anger' Column:\n",
            "      Anger Anger_binned\n",
            "0        20       medium\n",
            "1        11       medium\n",
            "2        17       medium\n",
            "3        21         high\n",
            "4        17       medium\n",
            "...     ...          ...\n",
            "7579     17       medium\n",
            "7580     20       medium\n",
            "7581     25         high\n",
            "7582     23         high\n",
            "7583     12       medium\n",
            "\n",
            "[7584 rows x 2 columns]\n"
          ]
        }
      ]
    },
    {
      "cell_type": "markdown",
      "source": [
        "## **Outlier Detection and Filtering**"
      ],
      "metadata": {
        "id": "xr3vjwNZIlqV"
      }
    },
    {
      "cell_type": "code",
      "source": [
        "Q1 = data['Anger'].quantile(0.25)\n",
        "Q3 = data['Anger'].quantile(0.75)\n",
        "\n",
        "# Interquartile Range (IQR)\n",
        "IQR = Q3 - Q1\n",
        "\n",
        "# Bounds for outliers\n",
        "lower_bound = Q1 - 1.5 * IQR\n",
        "upper_bound = Q3 + 1.5 * IQR\n",
        "\n",
        "# Detect outliers\n",
        "outliers = data[(data['Anger'] < lower_bound) | (data['Anger'] > upper_bound)]\n",
        "print(\"Outliers in 'Anger' column:\")\n",
        "print(outliers[['Anger']])\n",
        "\n",
        "# Filtering out outliers\n",
        "df_filtered = data[(data['Anger'] >= lower_bound) & (data['Anger'] <= upper_bound)]\n",
        "print(\"\\nDataset after filtering out outliers:\")\n",
        "print(df_filtered[['Anger']])"
      ],
      "metadata": {
        "colab": {
          "base_uri": "https://localhost:8080/"
        },
        "id": "cfYPEKYDIuGa",
        "outputId": "63886543-5071-43ce-b05a-35cdb95daa25"
      },
      "execution_count": 24,
      "outputs": [
        {
          "output_type": "stream",
          "name": "stdout",
          "text": [
            "Outliers in 'Anger' column:\n",
            "      Anger\n",
            "6        39\n",
            "12       36\n",
            "24       33\n",
            "32       33\n",
            "49       35\n",
            "...     ...\n",
            "7300     33\n",
            "7317     35\n",
            "7519     34\n",
            "7529     34\n",
            "7573     33\n",
            "\n",
            "[192 rows x 1 columns]\n",
            "\n",
            "Dataset after filtering out outliers:\n",
            "      Anger\n",
            "0        20\n",
            "1        11\n",
            "2        17\n",
            "3        21\n",
            "4        17\n",
            "...     ...\n",
            "7579     17\n",
            "7580     20\n",
            "7581     25\n",
            "7582     23\n",
            "7583     12\n",
            "\n",
            "[7392 rows x 1 columns]\n"
          ]
        }
      ]
    }
  ]
}